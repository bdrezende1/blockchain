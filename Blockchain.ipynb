{
  "nbformat": 4,
  "nbformat_minor": 0,
  "metadata": {
    "colab": {
      "provenance": [],
      "include_colab_link": true
    },
    "kernelspec": {
      "name": "python3",
      "display_name": "Python 3"
    },
    "language_info": {
      "name": "python"
    }
  },
  "cells": [
    {
      "cell_type": "markdown",
      "metadata": {
        "id": "view-in-github",
        "colab_type": "text"
      },
      "source": [
        "<a href=\"https://colab.research.google.com/github/brezende1/blockchain/blob/main/Blockchain.ipynb\" target=\"_parent\"><img src=\"https://colab.research.google.com/assets/colab-badge.svg\" alt=\"Open In Colab\"/></a>"
      ]
    },
    {
      "cell_type": "code",
      "metadata": {
        "id": "RitgJBMXh3Nd"
      },
      "source": [
        "import hashlib\n",
        "import time"
      ],
      "execution_count": null,
      "outputs": []
    },
    {
      "cell_type": "code",
      "metadata": {
        "colab": {
          "base_uri": "https://localhost:8080/"
        },
        "id": "onZeX_H-h9Pz",
        "outputId": "f8bc5ec6-48ca-4470-ce35-f5dec1237fa0"
      },
      "source": [
        "blocks = [] #armazena todos os hashs\n",
        "complete_blocks=[] #armazena todos os blocos\n",
        "\n",
        "#algoritmo SHA-256\n",
        "def encrypt_string(hash_string):\n",
        "    sha_signature = \\\n",
        "        hashlib.sha256(hash_string.encode()).hexdigest()\n",
        "    return sha_signature\n",
        "\n",
        "#verifica validade do hash\n",
        "def valid_proof(hash):\n",
        "    difficulty=\"0000\" #nºde \"0\"(zeros iniciando o hash)\n",
        "    if hash.startswith(difficulty):\n",
        "        return True\n",
        "    return False\n",
        "\n",
        "def proofOfWork(data, timestamp, prev_hash, index):\n",
        "    _hash = \"\"\n",
        "    nonce = 0\n",
        "    while not valid_proof(_hash):\n",
        "        block_property = data + str(timestamp) + str(prev_hash) + str(index) + str(nonce)\n",
        "        _hash = encrypt_string(block_property)\n",
        "        nonce += 1\n",
        "    #Estrutura do bloco considerando suas propriedades //formatado para exibição\n",
        "    datas= \"Data: \"+ data +\" , \"+ \"Nonce: \"+str(nonce)+\" , \"+\"Hash anterior: \"+ str(prev_hash) +\" , \"+\"Hash: \"+_hash +\" , \"+\"Timestamp: \"+str(timestamp)\n",
        "\n",
        "    complete_blocks.append(datas)\n",
        "    blocks.append(_hash)\n",
        "\n",
        "def getLastHash():\n",
        "    return blocks[len(blocks) - 1]\n",
        "\n",
        "def addNewBlock(content):\n",
        "    _index = len(blocks)\n",
        "    timestamp = time.time()\n",
        "    prev_hash = getLastHash()\n",
        "    proofOfWork(content, timestamp, prev_hash, _index)\n",
        "\n",
        "#retorna todos os blocos e suas propiedades\n",
        "def getAllBlocks():\n",
        "    for i in range(0, len(blocks)):\n",
        "        print(complete_blocks[i])\n",
        "\n",
        "#inicializa o bloco inicial da cadeia\n",
        "def initBlock():\n",
        "    data = \"GENESIS 'Marco 0' \"\n",
        "    timestamp = time.time()\n",
        "    prev_hash = 0\n",
        "    index = 0\n",
        "    proofOfWork(data, timestamp, prev_hash, index)\n",
        "\n",
        "#inicia a cadeia\n",
        "initBlock()\n",
        "#Solicito a criação e inserção de 2 novos blocos\n",
        "addNewBlock(\"Novo Bloco\")\n",
        "addNewBlock(\"Blockchain S2 \")\n",
        "#Retorno toda a cadeia de blocos\n",
        "getAllBlocks()"
      ],
      "execution_count": null,
      "outputs": [
        {
          "output_type": "stream",
          "text": [
            "Data: GENESIS 'Marco 0'  , Nonce: 33137 , Hash anterior: 0 , Hash: 00009b632a062e148bc9ce058767856d4016bfcbfe607926c3f01af35bac1108 , Timestamp: 1621543653.5761998\n",
            "Data: Novo Bloco , Nonce: 55350 , Hash anterior: 00009b632a062e148bc9ce058767856d4016bfcbfe607926c3f01af35bac1108 , Hash: 0000ea9b8afaca46ca0a2baba62d2402ccccda7ada61594739f56f13d829db53 , Timestamp: 1621543653.6840084\n",
            "Data: Blockchain S2  , Nonce: 32309 , Hash anterior: 0000ea9b8afaca46ca0a2baba62d2402ccccda7ada61594739f56f13d829db53 , Hash: 000078815ec45fb84ebeeafdd2b8e7e06d488295289c14dd381186327cc3f780 , Timestamp: 1621543653.8568418\n"
          ],
          "name": "stdout"
        }
      ]
    },
    {
      "cell_type": "code",
      "metadata": {
        "id": "WMr--bEUiW7A"
      },
      "source": [
        "#Artigo  no Medium LINK: https://medium.com/@felipemfp/entendendo-como-funciona-uma-blockchain-com-python-4e5a66f09e16"
      ],
      "execution_count": null,
      "outputs": []
    }
  ]
}